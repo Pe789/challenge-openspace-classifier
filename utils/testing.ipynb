{
 "cells": [
  {
   "cell_type": "code",
   "execution_count": 18,
   "metadata": {},
   "outputs": [
    {
     "name": "stdout",
     "output_type": "stream",
     "text": [
      "['colleague1', 'colleague2', 'colleague3', 'colleague4', 'colleague5', 'colleague6', 'colleague7', 'colleague8', 'colleague9', 'colleague10', 'colleague11', 'colleague12', 'colleague13', 'colleague14', 'colleague15', 'colleague16', 'colleague17', 'colleague18', 'colleague19', 'colleague20', 'colleague21', 'colleague22', 'colleague23', 'colleague24']\n",
      "[1, 2, 3, 4, 5, 6]\n",
      "[1, 2, 3, 4]\n",
      "[([1], [1]), ([1], [2]), ([1], [3]), ([1], [4]), ([2], [1]), ([2], [2]), ([2], [3]), ([2], [4]), ([3], [1]), ([3], [2]), ([3], [3]), ([3], [4]), ([4], [1]), ([4], [2]), ([4], [3]), ([4], [4]), ([5], [1]), ([5], [2]), ([5], [3]), ([5], [4]), ([6], [1]), ([6], [2]), ([6], [3]), ([6], [4])]\n"
     ]
    }
   ],
   "source": [
    "#creating starting list for colleagues and tables_seats\n",
    "\n",
    "colleagues = []\n",
    "for i in range(24):\n",
    "    colleagues.append(f\"colleague{i+1}\")\n",
    "print(colleagues)\n",
    "\n",
    "table_nrs = []\n",
    "for i in range(6):\n",
    "    table_nrs.append(i+1)\n",
    "print(table_nrs)\n",
    "\n",
    "seat_nrs = []\n",
    "for i in range(4):\n",
    "    seat_nrs.append(i+1)\n",
    "print(seat_nrs)\n",
    "\n",
    "tables_seats = []\n",
    "for i in table_nrs:\n",
    "    for j in seat_nrs:\n",
    "        tables_seats.append(([i], [j]))\n",
    "print(tables_seats)\n"
   ]
  },
  {
   "cell_type": "markdown",
   "metadata": {},
   "source": [
    "In `table.py`:\n",
    "Create a class called `Seat` with two attributes:\n",
    "- `free` which is a boolean.\n",
    "- `occupant` which is a string.\n",
    "and 2 functions : \n",
    "- `set_occupant(name)` which allows the program to assign someone a seat if it's free\n",
    "- `remove_occupant()` which  remove someone from a seat and return the name of the person occupying the seat before"
   ]
  },
  {
   "cell_type": "code",
   "execution_count": 24,
   "metadata": {},
   "outputs": [
    {
     "name": "stdout",
     "output_type": "stream",
     "text": [
      "[<__main__.Seat object at 0x0000028C30F8B020>, <__main__.Seat object at 0x0000028C30F3AC60>, <__main__.Seat object at 0x0000028C30F3B980>, <__main__.Seat object at 0x0000028C30F392B0>]\n"
     ]
    }
   ],
   "source": [
    "class Seat:\n",
    "  #This is a seat\n",
    "  def __init__(self):\n",
    "    self.free = True\n",
    "    self.occupant = \"\"\n",
    "  def set_occupant(self,name):\n",
    "    self.free = False\n",
    "    self.occupant = name\n",
    "  def remove_occupant(self):\n",
    "    self.free = True\n",
    "    self.occupant = \"\"\n",
    "\n",
    "names = ['Iza', ' Muh', ' Soha', 'Majid']\n",
    "list_seats = []\n",
    "for name in names:\n",
    "    seat = Seat()\n",
    "    seat.set_occupant(name)\n",
    "    list_seats.append(seat)\n",
    "print(list_seats)"
   ]
  },
  {
   "cell_type": "markdown",
   "metadata": {},
   "source": [
    "In the same file, create a class `Table` with ? attributes:\n",
    "- `capacity` which is an integer\n",
    "- `seats` which is a list of `Seat` objects (size = `capacity`)\n",
    "and 3 functions : \n",
    "- `has_free_spot()` that returns a boolean (True if a spot is available)\n",
    "- `assign_seat(name)` that places someone at the table\n",
    "- `left_capacity()` that returns an integer"
   ]
  },
  {
   "cell_type": "code",
   "execution_count": 52,
   "metadata": {},
   "outputs": [
    {
     "name": "stdout",
     "output_type": "stream",
     "text": [
      "4\n",
      "[<__main__.Seat object at 0x0000028C30F039B0>, <__main__.Seat object at 0x0000028C30F01400>, <__main__.Seat object at 0x0000028C30F01D90>, <__main__.Seat object at 0x0000028C30F02090>]\n",
      "Suzan\n",
      "False\n"
     ]
    },
    {
     "data": {
      "text/plain": [
       "0"
      ]
     },
     "execution_count": 52,
     "metadata": {},
     "output_type": "execute_result"
    }
   ],
   "source": [
    "class Table:\n",
    "  #This is a Table\n",
    "  def __init__(self):\n",
    "    self.capacity = 4\n",
    "    self.seats = []\n",
    "    for i in range(self.capacity):\n",
    "      self.seats.append(Seat())\n",
    "\n",
    "  def has_free_spot(self):\n",
    "    for i in self.seats:\n",
    "      if i.free == True:\n",
    "        return True\n",
    "        break\n",
    "  \n",
    "  def assign_seat(self, name):\n",
    "    for i in self.seats:\n",
    "      i.set_occupant(name)\n",
    "\n",
    "  def left_capacity(self):\n",
    "    count = 0\n",
    "    for i in self.seats:\n",
    "      if i.free == True:\n",
    "        count = count + 1\n",
    "    return count\n",
    "    \n",
    "table1 = Table()       \n",
    "\n",
    "#testing\n",
    "print(table1.capacity)\n",
    "print(table1.seats)\n",
    "\n",
    "table1.assign_seat('Suzan')\n",
    "print(table1.seats[0].occupant)\n",
    "print(table1.seats[0].free)\n",
    "table1.left_capacity()\n",
    "\n"
   ]
  },
  {
   "cell_type": "code",
   "execution_count": null,
   "metadata": {},
   "outputs": [],
   "source": []
  },
  {
   "cell_type": "markdown",
   "metadata": {},
   "source": [
    "In `openspace.py` create a class `Openspace` that contains these attributes:\n",
    "\n",
    "- `tables` which is a list of `Table`. _(you will need to import `Table` from `table.py`)_. \n",
    "- `number_of_tables` which is an integer.\n",
    "\n",
    "And some methods:\n",
    "\n",
    "- `organize(names)` that will:\n",
    "  - **randomly** assign people to `Seat` objects in the different `Table` objects.\n",
    "- `display()` display the different tables and there occupants in a nice and readable way\n",
    "- `store(filename)` store the repartition in an excel file"
   ]
  },
  {
   "cell_type": "code",
   "execution_count": null,
   "metadata": {},
   "outputs": [],
   "source": []
  }
 ],
 "metadata": {
  "kernelspec": {
   "display_name": "Python 3",
   "language": "python",
   "name": "python3"
  },
  "language_info": {
   "codemirror_mode": {
    "name": "ipython",
    "version": 3
   },
   "file_extension": ".py",
   "mimetype": "text/x-python",
   "name": "python",
   "nbconvert_exporter": "python",
   "pygments_lexer": "ipython3",
   "version": "3.12.6"
  }
 },
 "nbformat": 4,
 "nbformat_minor": 2
}
