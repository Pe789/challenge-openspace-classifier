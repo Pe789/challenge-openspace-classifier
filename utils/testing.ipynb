{
 "cells": [
  {
   "cell_type": "code",
   "execution_count": 164,
   "metadata": {},
   "outputs": [],
   "source": [
    "class Seat:\n",
    "  #This is a seat\n",
    "  def __init__(self):\n",
    "    self.free = True\n",
    "    self.occupant = \"\"\n",
    "  def set_occupant(self,name):\n",
    "    #allows the program to assign someone a seat if it's free\n",
    "    self.free = False\n",
    "    self.occupant = name\n",
    "  def remove_occupant(self):\n",
    "    #remove someone from a seat and return the name of the person occupying the seat before\n",
    "    self.free = True\n",
    "    self.occupant = \"\"\n"
   ]
  },
  {
   "cell_type": "code",
   "execution_count": 165,
   "metadata": {},
   "outputs": [
    {
     "name": "stdout",
     "output_type": "stream",
     "text": [
      " Muh\n",
      "False\n",
      "\n",
      "True\n"
     ]
    }
   ],
   "source": [
    "#testing\n",
    "names = ['Iza', ' Muh', ' Soha', 'Majid']\n",
    "list_seats = []\n",
    "for name in names:\n",
    "    seat = Seat()\n",
    "    seat.set_occupant(name)\n",
    "    list_seats.append(seat)\n",
    "print(list_seats[1].occupant)\n",
    "print(list_seats[1].free)\n",
    "list_seats[1].remove_occupant()\n",
    "print(list_seats[1].occupant)\n",
    "print(list_seats[1].free)"
   ]
  },
  {
   "cell_type": "code",
   "execution_count": 166,
   "metadata": {},
   "outputs": [],
   "source": [
    "class Table:\n",
    "  #This is a Table\n",
    "  def __init__(self):\n",
    "    self.capacity = 4\n",
    "    self.seats = []\n",
    "    for i in range(self.capacity):\n",
    "      self.seats.append(Seat())\n",
    "\n",
    "  def has_free_spot(self):\n",
    "    for i in self.seats:\n",
    "      if i.free == True:\n",
    "        return True\n",
    "        break  \n",
    "  def assign_seat(self, name):\n",
    "    #places someone at the table\n",
    "    for i in self.seats:\n",
    "      if i.free == True:\n",
    "        i.set_occupant(name)\n",
    "        #print(f\"{i} is being seated\")\n",
    "        break   \n",
    "  def left_capacity(self):\n",
    "    count = 0\n",
    "    for i in self.seats:\n",
    "      #print(i.free)\n",
    "      if i.free == True:\n",
    "        count = count + 1\n",
    "    return count  "
   ]
  },
  {
   "cell_type": "code",
   "execution_count": 167,
   "metadata": {},
   "outputs": [
    {
     "name": "stdout",
     "output_type": "stream",
     "text": [
      "4\n",
      "[<__main__.Seat object at 0x0000025872095F40>, <__main__.Seat object at 0x0000025872095640>, <__main__.Seat object at 0x0000025871E58B30>, <__main__.Seat object at 0x0000025871E581D0>]\n",
      "Suzan\n",
      "False\n"
     ]
    },
    {
     "data": {
      "text/plain": [
       "3"
      ]
     },
     "execution_count": 167,
     "metadata": {},
     "output_type": "execute_result"
    }
   ],
   "source": [
    "#testing\n",
    "tablex = Table()    \n",
    "print(tablex.capacity)\n",
    "print(tablex.seats)\n",
    "tablex.assign_seat('Suzan')\n",
    "print(tablex.seats[0].occupant)\n",
    "print(tablex.seats[0].free)\n",
    "tablex.left_capacity()"
   ]
  },
  {
   "cell_type": "code",
   "execution_count": 171,
   "metadata": {},
   "outputs": [],
   "source": [
    "class Openspace:\n",
    "  #This is a Openspace\n",
    "  def __init__(self):\n",
    "    self.number_of_tables = 6\n",
    "    self.tables = []\n",
    "    for i in range(self.number_of_tables):\n",
    "      self.tables.append(Table())\n",
    "    \n",
    "  def organize(self,names):\n",
    "    for i in names:\n",
    "      for j in self.tables:\n",
    "        #print(f\"colleague {i} and checking on table {j}\")\n",
    "        #print(j.has_free_spot())\n",
    "        if j.has_free_spot() == True:\n",
    "          j.assign_seat(i)\n",
    "          #print(f\"{i} being seated\")\n",
    "          break  \n",
    "     \n",
    "  def display(self):\n",
    "    table_nr = 1\n",
    "    for i in self.tables:\n",
    "      seated = []\n",
    "      for j in i.seats:      \n",
    "        seated.append (j.occupant)\n",
    "      print(f\"Table {table_nr} has following persons seated :{seated}\")\n",
    "      table_nr = table_nr + 1\n",
    "       \n",
    " "
   ]
  },
  {
   "cell_type": "code",
   "execution_count": 169,
   "metadata": {},
   "outputs": [
    {
     "name": "stdout",
     "output_type": "stream",
     "text": [
      "Nbr of tables created is 6\n",
      "Nbr of seats left on first table is 4\n",
      "Nbr of seats left on first table is 2\n",
      "Table 1 has following persons seated :['Mona', 'Jean', '', '']\n",
      "Table 2 has following persons seated :['', '', '', '']\n",
      "Table 3 has following persons seated :['', '', '', '']\n",
      "Table 4 has following persons seated :['', '', '', '']\n",
      "Table 5 has following persons seated :['', '', '', '']\n",
      "Table 6 has following persons seated :['', '', '', '']\n"
     ]
    }
   ],
   "source": [
    "#testing\n",
    "open_space_1 = Openspace()\n",
    "print(f\"Nbr of tables created is {open_space_1.number_of_tables}\")\n",
    "print(f\"Nbr of seats left on first table is {open_space_1.tables[0].left_capacity()}\")\n",
    "list1 = ['Mona', 'Jean']\n",
    "open_space_1.organize(list1)\n",
    "print(f\"Nbr of seats left on first table is {open_space_1.tables[0].left_capacity()}\")\n",
    "open_space_1.display()\n"
   ]
  },
  {
   "cell_type": "code",
   "execution_count": 159,
   "metadata": {},
   "outputs": [
    {
     "name": "stdout",
     "output_type": "stream",
     "text": [
      "['colleague1', 'colleague2', 'colleague3', 'colleague4', 'colleague5', 'colleague6', 'colleague7', 'colleague8', 'colleague9', 'colleague10', 'colleague11', 'colleague12', 'colleague13', 'colleague14', 'colleague15', 'colleague16', 'colleague17', 'colleague18', 'colleague19', 'colleague20', 'colleague21', 'colleague22', 'colleague23', 'colleague24']\n"
     ]
    }
   ],
   "source": [
    "#creating shuffled starting list for 24 colleagues\n",
    "colleagues = []\n",
    "for i in range(24):\n",
    "    colleagues.append(f\"colleague{i+1}\")\n",
    "print(colleagues)\n"
   ]
  },
  {
   "cell_type": "code",
   "execution_count": 172,
   "metadata": {},
   "outputs": [
    {
     "name": "stdout",
     "output_type": "stream",
     "text": [
      "['colleague20', 'colleague5', 'colleague17', 'colleague6', 'colleague7', 'colleague21', 'colleague23', 'colleague4', 'colleague22', 'colleague24', 'colleague3', 'colleague19', 'colleague11', 'colleague10', 'colleague2', 'colleague16', 'colleague8', 'colleague14', 'colleague15', 'colleague12', 'colleague18', 'colleague9', 'colleague13', 'colleague1']\n",
      "Table 1 has following persons seated :['colleague20', 'colleague5', 'colleague17', 'colleague6']\n",
      "Table 2 has following persons seated :['colleague7', 'colleague21', 'colleague23', 'colleague4']\n",
      "Table 3 has following persons seated :['colleague22', 'colleague24', 'colleague3', 'colleague19']\n",
      "Table 4 has following persons seated :['colleague11', 'colleague10', 'colleague2', 'colleague16']\n",
      "Table 5 has following persons seated :['colleague8', 'colleague14', 'colleague15', 'colleague12']\n",
      "Table 6 has following persons seated :['colleague18', 'colleague9', 'colleague13', 'colleague1']\n"
     ]
    }
   ],
   "source": [
    "# putting it all together\n",
    "\n",
    "import random\n",
    "random.shuffle(colleagues) # shuffling the list of colleagues randomly\n",
    "print(colleagues)\n",
    "\n",
    "open_space_final = Openspace() #6 tables of 4 being created\n",
    "open_space_final.organize(colleagues)\n",
    "open_space_final.display()\n"
   ]
  }
 ],
 "metadata": {
  "kernelspec": {
   "display_name": "Python 3",
   "language": "python",
   "name": "python3"
  },
  "language_info": {
   "codemirror_mode": {
    "name": "ipython",
    "version": 3
   },
   "file_extension": ".py",
   "mimetype": "text/x-python",
   "name": "python",
   "nbconvert_exporter": "python",
   "pygments_lexer": "ipython3",
   "version": "3.12.6"
  }
 },
 "nbformat": 4,
 "nbformat_minor": 2
}
